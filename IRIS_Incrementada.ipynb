{
 "cells": [
  {
   "cell_type": "code",
   "execution_count": null,
   "metadata": {},
   "outputs": [],
   "source": [
    "#Pipeline ETL (Extração,Tratamento e novo arquivo)\n",
    "import pandas as pd \n",
    "\n",
    "#Base de dados Iris (EXTRAÇÃO)\n",
    "data_iris=pd.read_excel('iris.xlsx')\n",
    "\n",
    "#Quantas especies temos no banco de dados \n",
    "numero_especies=data_iris['Species'].nunique()\n",
    "\n",
    "#Qual a média de tamanho das petalas de todas as plantas.\n",
    "media_tamanho_petalas=data_iris['Petal.Width'].mean()\n",
    "\n",
    "#Qual a média de tamanho das sépalas de todas as plantas.\n",
    "media_tamanho_sepalas=data_iris['Sepal.Width'].mean()\n",
    "\n",
    "\n",
    "#Acrescenta novas colunas com numero total de especies e médias dos tamanhos de petalas e sepalas de todas as especies.\n",
    "data_iris.loc[0, 'total_number_especies'] = numero_especies\n",
    "data_iris.loc[0, 'total_mean_Width_Petal'] = media_tamanho_petalas\n",
    "data_iris.loc[0, 'total_mean_Width_Sepal'] = media_tamanho_sepalas\n",
    "\n",
    "#Salva o arquivo em um novo documento.\n",
    "data_iris.to_csv('iris_com_incrementos.csv', index=False)\n",
    "\n"
   ]
  }
 ],
 "metadata": {
  "language_info": {
   "name": "python"
  },
  "orig_nbformat": 4
 },
 "nbformat": 4,
 "nbformat_minor": 2
}
